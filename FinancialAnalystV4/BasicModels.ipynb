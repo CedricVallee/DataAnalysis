{
 "cells": [
  {
   "cell_type": "code",
   "execution_count": 58,
   "metadata": {
    "collapsed": true
   },
   "outputs": [],
   "source": [
    "# Load packages\n",
    "import pandas as pd\n",
    "from sklearn.cross_validation import train_test_split\n",
    "from sklearn.feature_extraction.text import CountVectorizer\n",
    "from sklearn.feature_extraction.text import TfidfVectorizer\n",
    "from sklearn.naive_bayes import MultinomialNB\n",
    "from sklearn.metrics import classification_report\n",
    "from sklearn.metrics import accuracy_score\n",
    "from sklearn.metrics import precision_score\n",
    "from sklearn.metrics import recall_score\n",
    "from sklearn.metrics import f1_score"
   ]
  },
  {
   "cell_type": "code",
   "execution_count": 59,
   "metadata": {
    "collapsed": false
   },
   "outputs": [],
   "source": [
    "# Load MS Excel file\n",
    "dataset=pd.read_excel('matrix.xlsx')\n",
    "dataset=dataset[['tag','Filename','MDA']]\n",
    "\n",
    "# Split the dataset in train/test ratio: 0.20\n",
    "train_set, test_set = train_test_split(dataset, test_size = 0.20)"
   ]
  },
  {
   "cell_type": "code",
   "execution_count": 60,
   "metadata": {
    "collapsed": false
   },
   "outputs": [
    {
     "name": "stdout",
     "output_type": "stream",
     "text": [
      "Actual     -1.0  0.0  1.0   All\n",
      "Predicted                      \n",
      "0.0           1    5    2    28\n",
      "1.0           7   83  113  1034\n",
      "All          32  437  593  1913\n",
      "Accuracy =  0.558380414313 \n",
      "Precision = 1.0 \n",
      "Recall =  0.558380414313 \n",
      "F-Score =  0.716616314199\n"
     ]
    },
    {
     "name": "stderr",
     "output_type": "stream",
     "text": [
      "C:\\Users\\Cedric\\Anaconda2\\lib\\site-packages\\sklearn\\metrics\\classification.py:1203: DeprecationWarning: The default `weighted` averaging is deprecated, and from version 0.18, use of precision, recall or F-score with multiclass or multilabel data or pos_label=None will result in an exception. Please set an explicit value for `average`, one of (None, 'micro', 'macro', 'weighted', 'samples'). In cross validation use, for instance, scoring=\"f1_weighted\" instead of scoring=\"f1\".\n",
      "  sample_weight=sample_weight)\n",
      "C:\\Users\\Cedric\\Anaconda2\\lib\\site-packages\\sklearn\\metrics\\classification.py:1304: DeprecationWarning: The default `weighted` averaging is deprecated, and from version 0.18, use of precision, recall or F-score with multiclass or multilabel data or pos_label=None will result in an exception. Please set an explicit value for `average`, one of (None, 'micro', 'macro', 'weighted', 'samples'). In cross validation use, for instance, scoring=\"f1_weighted\" instead of scoring=\"f1\".\n",
      "  sample_weight=sample_weight)\n",
      "C:\\Users\\Cedric\\Anaconda2\\lib\\site-packages\\sklearn\\metrics\\classification.py:756: DeprecationWarning: The default `weighted` averaging is deprecated, and from version 0.18, use of precision, recall or F-score with multiclass or multilabel data or pos_label=None will result in an exception. Please set an explicit value for `average`, one of (None, 'micro', 'macro', 'weighted', 'samples'). In cross validation use, for instance, scoring=\"f1_weighted\" instead of scoring=\"f1\".\n",
      "  sample_weight=sample_weight)\n"
     ]
    }
   ],
   "source": [
    "# Baseline all BUY\n",
    "buy=[]\n",
    "for i in range(0, len(test_set)):\n",
    "    buy.append(1)\n",
    "allBuy = pd.Series(buy)\n",
    "\n",
    "# Print accuracy, precision, recall, F measure\n",
    "tab = pd.crosstab(test_set_pred, test_set.tag, rownames=['Predicted'], colnames=['Actual'], margins=True) # Print confusion matrix\n",
    "print(tab)\n",
    "classification_report(allBuy, test_set.tag)\n",
    "a=accuracy_score(allBuy, test_set.tag)\n",
    "p=precision_score(allBuy, test_set.tag)\n",
    "r=recall_score(allBuy, test_set.tag)\n",
    "f=f1_score(allBuy, test_set.tag)\n",
    "print \"Accuracy = \",a,\"\\nPrecision =\",p,\"\\nRecall = \",r,\"\\nF-Score = \",f"
   ]
  },
  {
   "cell_type": "code",
   "execution_count": 54,
   "metadata": {
    "collapsed": false
   },
   "outputs": [
    {
     "name": "stdout",
     "output_type": "stream",
     "text": [
      "Actual     -1    0    1   All\n",
      "Predicted                    \n",
      "-1          4   10    2    16\n",
      "0           5  228  166   399\n",
      "1           9  216  422   647\n",
      "All        18  454  590  1062\n",
      "Accuracy =  0.61581920904 \n",
      "Precision = 0.627781451701 \n",
      "Recall =  0.61581920904 \n",
      "F-Score =  0.62006505017\n"
     ]
    },
    {
     "name": "stderr",
     "output_type": "stream",
     "text": [
      "C:\\Users\\Cedric\\Anaconda2\\lib\\site-packages\\sklearn\\metrics\\classification.py:1203: DeprecationWarning: The default `weighted` averaging is deprecated, and from version 0.18, use of precision, recall or F-score with multiclass or multilabel data or pos_label=None will result in an exception. Please set an explicit value for `average`, one of (None, 'micro', 'macro', 'weighted', 'samples'). In cross validation use, for instance, scoring=\"f1_weighted\" instead of scoring=\"f1\".\n",
      "  sample_weight=sample_weight)\n",
      "C:\\Users\\Cedric\\Anaconda2\\lib\\site-packages\\sklearn\\metrics\\classification.py:1304: DeprecationWarning: The default `weighted` averaging is deprecated, and from version 0.18, use of precision, recall or F-score with multiclass or multilabel data or pos_label=None will result in an exception. Please set an explicit value for `average`, one of (None, 'micro', 'macro', 'weighted', 'samples'). In cross validation use, for instance, scoring=\"f1_weighted\" instead of scoring=\"f1\".\n",
      "  sample_weight=sample_weight)\n",
      "C:\\Users\\Cedric\\Anaconda2\\lib\\site-packages\\sklearn\\metrics\\classification.py:756: DeprecationWarning: The default `weighted` averaging is deprecated, and from version 0.18, use of precision, recall or F-score with multiclass or multilabel data or pos_label=None will result in an exception. Please set an explicit value for `average`, one of (None, 'micro', 'macro', 'weighted', 'samples'). In cross validation use, for instance, scoring=\"f1_weighted\" instead of scoring=\"f1\".\n",
      "  sample_weight=sample_weight)\n"
     ]
    }
   ],
   "source": [
    "# Create the Count classifier\n",
    "vectorizer = CountVectorizer(stop_words=\"english\")\n",
    "counts = vectorizer.fit_transform(train_set.MDA.values)\n",
    "classifier = MultinomialNB(fit_prior=\"False\")\n",
    "\n",
    "# Train the classifier\n",
    "classifier.fit(counts, train_set.tag)\n",
    "\n",
    "# Test the classifier\n",
    "predictions = classifier.predict(vectorizer.transform(test_set.MDA.values)) \n",
    "test_set_pred = pd.Series(predictions, index=test_set.index)\n",
    "tab = pd.crosstab(test_set_pred, test_set.tag, rownames=['Predicted'], colnames=['Actual'], margins=True) # Print confusion matrix\n",
    "print(tab)\n",
    "\n",
    "# Print accuracy, precision, recall, F measure\n",
    "classification_report(test_set_pred, test_set.tag)\n",
    "a=accuracy_score(test_set_pred, test_set.tag)\n",
    "p=precision_score(test_set_pred, test_set.tag)\n",
    "r=recall_score(test_set_pred, test_set.tag)\n",
    "f=f1_score(test_set_pred, test_set.tag)\n",
    "print \"Accuracy = \",a,\"\\nPrecision =\",p,\"\\nRecall = \",r,\"\\nF-Score = \",f"
   ]
  },
  {
   "cell_type": "code",
   "execution_count": 55,
   "metadata": {
    "collapsed": false
   },
   "outputs": [
    {
     "name": "stdout",
     "output_type": "stream",
     "text": [
      "Actual     -1    0    1   All\n",
      "Predicted                    \n",
      "0           1   21    6    28\n",
      "1          17  433  584  1034\n",
      "All        18  454  590  1062\n",
      "Accuracy =  0.569679849341 \n",
      "Precision = 0.96495282481 \n",
      "Recall =  0.569679849341 \n",
      "F-Score =  0.702546947886\n"
     ]
    },
    {
     "name": "stderr",
     "output_type": "stream",
     "text": [
      "C:\\Users\\Cedric\\Anaconda2\\lib\\site-packages\\sklearn\\metrics\\classification.py:1203: DeprecationWarning: The default `weighted` averaging is deprecated, and from version 0.18, use of precision, recall or F-score with multiclass or multilabel data or pos_label=None will result in an exception. Please set an explicit value for `average`, one of (None, 'micro', 'macro', 'weighted', 'samples'). In cross validation use, for instance, scoring=\"f1_weighted\" instead of scoring=\"f1\".\n",
      "  sample_weight=sample_weight)\n",
      "C:\\Users\\Cedric\\Anaconda2\\lib\\site-packages\\sklearn\\metrics\\classification.py:1304: DeprecationWarning: The default `weighted` averaging is deprecated, and from version 0.18, use of precision, recall or F-score with multiclass or multilabel data or pos_label=None will result in an exception. Please set an explicit value for `average`, one of (None, 'micro', 'macro', 'weighted', 'samples'). In cross validation use, for instance, scoring=\"f1_weighted\" instead of scoring=\"f1\".\n",
      "  sample_weight=sample_weight)\n",
      "C:\\Users\\Cedric\\Anaconda2\\lib\\site-packages\\sklearn\\metrics\\classification.py:756: DeprecationWarning: The default `weighted` averaging is deprecated, and from version 0.18, use of precision, recall or F-score with multiclass or multilabel data or pos_label=None will result in an exception. Please set an explicit value for `average`, one of (None, 'micro', 'macro', 'weighted', 'samples'). In cross validation use, for instance, scoring=\"f1_weighted\" instead of scoring=\"f1\".\n",
      "  sample_weight=sample_weight)\n"
     ]
    }
   ],
   "source": [
    "# Create the TFIDF classifier\n",
    "vectorizer = TfidfVectorizer(stop_words=\"english\")\n",
    "counts = vectorizer.fit_transform(train_set.MDA.values)\n",
    "classifier = MultinomialNB(fit_prior=\"False\")\n",
    "\n",
    "# Train the classifier\n",
    "classifier.fit(counts, train_set.tag)\n",
    "\n",
    "# Test the classifier\n",
    "predictions = classifier.predict(vectorizer.transform(test_set.MDA.values)) \n",
    "test_set_pred = pd.Series(predictions, index=test_set.index)\n",
    "tab = pd.crosstab(test_set_pred, test_set.tag, rownames=['Predicted'], colnames=['Actual'], margins=True) # Print confusion matrix\n",
    "print(tab)\n",
    "\n",
    "# Print accuracy, precision, recall, F measure\n",
    "classification_report(test_set_pred, test_set.tag)\n",
    "a=accuracy_score(test_set_pred, test_set.tag)\n",
    "p=precision_score(test_set_pred, test_set.tag)\n",
    "r=recall_score(test_set_pred, test_set.tag)\n",
    "f=f1_score(test_set_pred, test_set.tag)\n",
    "print \"Accuracy = \",a,\"\\nPrecision =\",p,\"\\nRecall = \",r,\"\\nF-Score = \",f"
   ]
  }
 ],
 "metadata": {
  "kernelspec": {
   "display_name": "Python 2",
   "language": "python",
   "name": "python2"
  },
  "language_info": {
   "codemirror_mode": {
    "name": "ipython",
    "version": 2
   },
   "file_extension": ".py",
   "mimetype": "text/x-python",
   "name": "python",
   "nbconvert_exporter": "python",
   "pygments_lexer": "ipython2",
   "version": "2.7.11"
  }
 },
 "nbformat": 4,
 "nbformat_minor": 0
}
